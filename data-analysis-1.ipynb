{
 "cells": [
  {
   "cell_type": "code",
   "execution_count": 1,
   "metadata": {},
   "outputs": [],
   "source": [
    "import seaborn as sns\n",
    "import matplotlib.pyplot as plt\n",
    "import pandas as pd\n",
    "import numpy as np"
   ]
  },
  {
   "cell_type": "code",
   "execution_count": 2,
   "metadata": {},
   "outputs": [],
   "source": [
    "#datasets\n",
    "dataset = pd.read_csv('DataExtract.csv')"
   ]
  },
  {
   "cell_type": "code",
   "execution_count": 3,
   "metadata": {},
   "outputs": [
    {
     "data": {
      "text/plain": [
       "['Country',\n",
       " 'Air Quality Network',\n",
       " 'Air Quality Network Name',\n",
       " 'Air Quality Station EoI Code',\n",
       " 'Air Quality Station Name',\n",
       " 'Sampling Point Id',\n",
       " 'Air Pollutant',\n",
       " 'Air Pollutant Description',\n",
       " 'Data Aggregation Process Id',\n",
       " 'Data Aggregation Process',\n",
       " 'Year',\n",
       " 'Air Pollution Level',\n",
       " 'Unit Of Air Pollution Level',\n",
       " 'Data Coverage',\n",
       " 'Verification',\n",
       " 'Air Quality Station Type',\n",
       " 'Air Quality Station Area',\n",
       " 'Longitude',\n",
       " 'Latitude',\n",
       " 'Altitude',\n",
       " 'City',\n",
       " 'City Code',\n",
       " 'City Population',\n",
       " 'Source Of Data Flow',\n",
       " 'Calculation Time',\n",
       " 'Link to raw data (only E1a/validated data from AQ e-Reporting)']"
      ]
     },
     "execution_count": 3,
     "metadata": {},
     "output_type": "execute_result"
    }
   ],
   "source": [
    "list(dataset.columns)"
   ]
  }
 ],
 "metadata": {
  "interpreter": {
   "hash": "be3f7ba803f75a54052461eef2a87359663b4b902ff4e03c40021b5347f1f657"
  },
  "kernelspec": {
   "display_name": "Python 3.9.1 64-bit",
   "language": "python",
   "name": "python3"
  },
  "language_info": {
   "codemirror_mode": {
    "name": "ipython",
    "version": 3
   },
   "file_extension": ".py",
   "mimetype": "text/x-python",
   "name": "python",
   "nbconvert_exporter": "python",
   "pygments_lexer": "ipython3",
   "version": "3.9.1"
  },
  "orig_nbformat": 4
 },
 "nbformat": 4,
 "nbformat_minor": 2
}
